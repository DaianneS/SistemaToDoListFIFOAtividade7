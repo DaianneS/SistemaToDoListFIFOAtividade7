{
  "nbformat": 4,
  "nbformat_minor": 0,
  "metadata": {
    "colab": {
      "provenance": [],
      "authorship_tag": "ABX9TyN9lO3xNlwuFsr7me+pxf6y",
      "include_colab_link": true
    },
    "kernelspec": {
      "name": "python3",
      "display_name": "Python 3"
    },
    "language_info": {
      "name": "python"
    }
  },
  "cells": [
    {
      "cell_type": "markdown",
      "metadata": {
        "id": "view-in-github",
        "colab_type": "text"
      },
      "source": [
        "<a href=\"https://colab.research.google.com/github/DaianneS/SistemaToDoListFIFOAtividade7/blob/main/ToDoListAtividade7.ipynb\" target=\"_parent\"><img src=\"https://colab.research.google.com/assets/colab-badge.svg\" alt=\"Open In Colab\"/></a>"
      ]
    },
    {
      "cell_type": "markdown",
      "source": [
        "##Classes"
      ],
      "metadata": {
        "id": "JwarGcDgUbWT"
      }
    },
    {
      "cell_type": "code",
      "execution_count": null,
      "metadata": {
        "id": "nf29Z9nZSrJ1"
      },
      "outputs": [],
      "source": [
        "class No:\n",
        "  def __init__(self, dado):\n",
        "    self.dado = dado\n",
        "    self.proximo = None\n",
        "\n",
        "class Fila:\n",
        "  def __init__(self):\n",
        "    self.inicio = None\n",
        "    self.fim = None\n",
        "\n",
        "  def estaVazia(self):\n",
        "    return self.inicio is None\n",
        "\n",
        "  def enfileirar(self, dado):\n",
        "    novoNo = No(dado)\n",
        "    if self.estaVazia():\n",
        "      self.inicio = novoNo\n",
        "    else:\n",
        "      self.fim.proximo = novoNo\n",
        "    self.fim = novoNo\n",
        "    print(f'Tarefa adicionada: {dado}')\n",
        "\n",
        "  def desenfileirar(self):\n",
        "    if self.estaVazia():\n",
        "      print('Nenhuma tarefa')\n",
        "      return None\n",
        "    tarefa = self.inicio.dado\n",
        "    self.inicio = self.inicio.proximo\n",
        "    if self.inicio is None:\n",
        "      self.fim = None\n",
        "    print(f'Tarefa removida: {tarefa}')\n",
        "    return tarefa\n",
        "\n",
        "  def exibirTarefas(self):\n",
        "    if self.estaVazia():\n",
        "      print('Nenhuma tarefa')\n",
        "    else:\n",
        "      atual = self.inicio\n",
        "      print('Tarefas:')\n",
        "      while atual is not None:\n",
        "        print(atual.dado)\n",
        "        atual = atual.proximo"
      ]
    },
    {
      "cell_type": "markdown",
      "source": [
        "##Menu"
      ],
      "metadata": {
        "id": "pNmhco7HU4JE"
      }
    },
    {
      "cell_type": "code",
      "source": [
        "def menu():\n",
        "  fila = Fila()\n",
        "\n",
        "  while True:\n",
        "    print('\\nMenu:')\n",
        "    print('1. Adicionar tarefa')\n",
        "    print('2. Concluir tarefa')\n",
        "    print('3. Exibir tarefas')\n",
        "    print('4. Sair')\n",
        "\n",
        "    opcao = input('Escolha uma opção: ')\n",
        "\n",
        "    if opcao == '1':\n",
        "      tarefa = input('Digite a descrição da tarefa: ')\n",
        "      fila.enfileirar(tarefa)\n",
        "    elif opcao == '2':\n",
        "      fila.desenfileirar()\n",
        "    elif opcao == '3':\n",
        "      fila.exibirTarefas()\n",
        "    elif opcao == '4':\n",
        "      print('Saindo...')\n",
        "      break\n",
        "    else:\n",
        "      print('Opção Inválida. Tente novamente')\n",
        "\n",
        "menu()"
      ],
      "metadata": {
        "colab": {
          "base_uri": "https://localhost:8080/"
        },
        "id": "-yjYG9eNU6do",
        "outputId": "c7a87860-e5ae-4b2c-e6bf-4e8dd669e555"
      },
      "execution_count": null,
      "outputs": [
        {
          "output_type": "stream",
          "name": "stdout",
          "text": [
            "\n",
            "Menu:\n",
            "1. Adicionar tarefa\n",
            "2. Concluir tarefa\n",
            "3. Exibir tarefas\n",
            "4. Sair\n",
            "Escolha uma opção: fazer ativ estrut dados\n",
            "Opção Inválida. Tente novamente\n",
            "\n",
            "Menu:\n",
            "1. Adicionar tarefa\n",
            "2. Concluir tarefa\n",
            "3. Exibir tarefas\n",
            "4. Sair\n",
            "Escolha uma opção: 1\n",
            "Digite a descrição da tarefa: verificar se segue lógica FIFO\n",
            "Tarefa adicionada: verificar se segue lógica FIFO\n",
            "\n",
            "Menu:\n",
            "1. Adicionar tarefa\n",
            "2. Concluir tarefa\n",
            "3. Exibir tarefas\n",
            "4. Sair\n",
            "Escolha uma opção: 1\n",
            "Digite a descrição da tarefa: testar com pelo menos 3 tarefas\n",
            "Tarefa adicionada: testar com pelo menos 3 tarefas\n",
            "\n",
            "Menu:\n",
            "1. Adicionar tarefa\n",
            "2. Concluir tarefa\n",
            "3. Exibir tarefas\n",
            "4. Sair\n",
            "Escolha uma opção: 3\n",
            "Tarefas:\n",
            "verificar se segue lógica FIFO\n",
            "testar com pelo menos 3 tarefas\n",
            "\n",
            "Menu:\n",
            "1. Adicionar tarefa\n",
            "2. Concluir tarefa\n",
            "3. Exibir tarefas\n",
            "4. Sair\n",
            "Escolha uma opção: 1\n",
            "Digite a descrição da tarefa: testar atividade\n",
            "Tarefa adicionada: testar atividade\n",
            "\n",
            "Menu:\n",
            "1. Adicionar tarefa\n",
            "2. Concluir tarefa\n",
            "3. Exibir tarefas\n",
            "4. Sair\n",
            "Escolha uma opção: 2\n",
            "Tarefa removida: verificar se segue lógica FIFO\n",
            "\n",
            "Menu:\n",
            "1. Adicionar tarefa\n",
            "2. Concluir tarefa\n",
            "3. Exibir tarefas\n",
            "4. Sair\n",
            "Escolha uma opção: 3\n",
            "Tarefas:\n",
            "testar com pelo menos 3 tarefas\n",
            "testar atividade\n",
            "\n",
            "Menu:\n",
            "1. Adicionar tarefa\n",
            "2. Concluir tarefa\n",
            "3. Exibir tarefas\n",
            "4. Sair\n",
            "Escolha uma opção: 1\n",
            "Digite a descrição da tarefa: concluir programa\n",
            "Tarefa adicionada: concluir programa\n",
            "\n",
            "Menu:\n",
            "1. Adicionar tarefa\n",
            "2. Concluir tarefa\n",
            "3. Exibir tarefas\n",
            "4. Sair\n",
            "Escolha uma opção: 2\n",
            "Tarefa removida: testar com pelo menos 3 tarefas\n",
            "\n",
            "Menu:\n",
            "1. Adicionar tarefa\n",
            "2. Concluir tarefa\n",
            "3. Exibir tarefas\n",
            "4. Sair\n",
            "Escolha uma opção: 2\n",
            "Tarefa removida: testar atividade\n",
            "\n",
            "Menu:\n",
            "1. Adicionar tarefa\n",
            "2. Concluir tarefa\n",
            "3. Exibir tarefas\n",
            "4. Sair\n",
            "Escolha uma opção: 2\n",
            "Tarefa removida: concluir programa\n",
            "\n",
            "Menu:\n",
            "1. Adicionar tarefa\n",
            "2. Concluir tarefa\n",
            "3. Exibir tarefas\n",
            "4. Sair\n",
            "Escolha uma opção: 3\n",
            "Nenhuma tarefa\n",
            "\n",
            "Menu:\n",
            "1. Adicionar tarefa\n",
            "2. Concluir tarefa\n",
            "3. Exibir tarefas\n",
            "4. Sair\n",
            "Escolha uma opção: 4\n",
            "Saindo...\n"
          ]
        }
      ]
    }
  ]
}